{
 "cells": [
  {
   "cell_type": "code",
   "execution_count": 2,
   "metadata": {},
   "outputs": [],
   "source": [
    "import pandas as pd\n",
    "import numpy as np\n",
    "import S2_0_Loading_Data\n",
    "\n",
    "# Imports: CNN\n",
    "from keras.models import Sequential\n",
    "from keras.layers import Dense, Dropout, Input, MaxPooling2D, ZeroPadding2D, Conv2D, Flatten, BatchNormalization, AveragePooling2D\n",
    "from keras.losses import categorical_crossentropy\n",
    "from keras.callbacks import EarlyStopping"
   ]
  },
  {
   "cell_type": "code",
   "execution_count": 3,
   "metadata": {},
   "outputs": [
    {
     "data": {
      "text/plain": [
       "(3257, 50, 50, 3)"
      ]
     },
     "execution_count": 3,
     "metadata": {},
     "output_type": "execute_result"
    }
   ],
   "source": [
    "train_x, test_x, train_y, test_y = S2_0_Loading_Data.load_data()\n",
    "train_x.shape"
   ]
  },
  {
   "cell_type": "markdown",
   "metadata": {},
   "source": [
    "### We start out with a fairly simple CNN\n",
    "\n",
    "50x50 faces\n",
    "Fairly standard CNN architecture. It nets us roughly 78% accuracy."
   ]
  },
  {
   "cell_type": "code",
   "execution_count": 4,
   "metadata": {},
   "outputs": [],
   "source": [
    "cnn = Sequential()\n",
    "\n",
    "cnn.add(ZeroPadding2D(padding = (1, 1), input_shape=(50, 50, 3)))\n",
    "cnn.add(Conv2D(filters=5, kernel_size=(5, 5), activation=\"relu\"))\n",
    "cnn.add(Conv2D(filters=5, kernel_size=(5, 5), activation=\"relu\"))\n",
    "cnn.add(MaxPooling2D(pool_size=(2, 2)))\n",
    "cnn.add(BatchNormalization())\n",
    "\n",
    "cnn.add(ZeroPadding2D(padding = (1, 1)))\n",
    "cnn.add(Conv2D(filters=7, kernel_size=(5, 5), activation=\"relu\"))\n",
    "cnn.add(Conv2D(filters=7, kernel_size=(5, 5), activation=\"relu\"))\n",
    "cnn.add(MaxPooling2D(pool_size=(2, 2)))\n",
    "cnn.add(BatchNormalization())\n",
    "\n",
    "cnn.add(Flatten())\n",
    "cnn.add(Dense(49, activation=\"relu\"))\n",
    "cnn.add(Dropout(0.1))\n",
    "\n",
    "cnn.add(Dense(3, activation=\"softmax\"))\n",
    "\n",
    "\n",
    "cnn.compile(\n",
    "    loss = categorical_crossentropy,\n",
    "    metrics = [\"accuracy\"],\n",
    "    optimizer = \"adam\"\n",
    ")"
   ]
  },
  {
   "cell_type": "code",
   "execution_count": 5,
   "metadata": {},
   "outputs": [
    {
     "name": "stdout",
     "output_type": "stream",
     "text": [
      "Epoch 1/5\n",
      "2/2 [==============================] - 3s 1s/step - loss: 0.8860 - accuracy: 0.6015 - val_loss: 3.3393 - val_accuracy: 0.5252\n",
      "Epoch 2/5\n",
      "2/2 [==============================] - 2s 1s/step - loss: 0.5451 - accuracy: 0.7881 - val_loss: 2.0070 - val_accuracy: 0.7914\n",
      "Epoch 3/5\n",
      "2/2 [==============================] - 2s 1s/step - loss: 0.4586 - accuracy: 0.8213 - val_loss: 2.2670 - val_accuracy: 0.7975\n",
      "Epoch 4/5\n",
      "2/2 [==============================] - 2s 984ms/step - loss: 0.3976 - accuracy: 0.8440 - val_loss: 2.3445 - val_accuracy: 0.7963\n",
      "Epoch 5/5\n",
      "2/2 [==============================] - 2s 1s/step - loss: 0.3600 - accuracy: 0.8664 - val_loss: 2.1449 - val_accuracy: 0.7963\n"
     ]
    }
   ],
   "source": [
    "cnn_hist = cnn.fit(\n",
    "    train_x,\n",
    "    train_y,\n",
    "    batch_size = 2000,\n",
    "    validation_data = (test_x, test_y),\n",
    "    epochs = 5,\n",
    "    verbose = 1\n",
    ")"
   ]
  },
  {
   "cell_type": "markdown",
   "metadata": {},
   "source": [
    "### Now, we are trying a more complex CNN\n",
    "\n",
    "We also scale the images up in attempt to retain more information from the high-resolution images"
   ]
  },
  {
   "cell_type": "code",
   "execution_count": 7,
   "metadata": {},
   "outputs": [
    {
     "data": {
      "text/plain": [
       "(3257, 100, 100, 3)"
      ]
     },
     "execution_count": 7,
     "metadata": {},
     "output_type": "execute_result"
    }
   ],
   "source": [
    "train_x, test_x, train_y, test_y = S2_0_Loading_Data.load_data(image_size=(100, 100))\n",
    "train_x.shape"
   ]
  },
  {
   "cell_type": "code",
   "execution_count": 8,
   "metadata": {},
   "outputs": [],
   "source": [
    "model = Sequential(\n",
    "    [\n",
    "        Input(shape=(100, 100, 3)),\n",
    "        Conv2D(10, kernel_size=(3, 3), activation=\"relu\"),\n",
    "        Conv2D(10, kernel_size=(3, 3), activation=\"relu\"),\n",
    "        MaxPooling2D(pool_size=(3, 3)),\n",
    "        Dropout(0.1),\n",
    "        Conv2D(10, kernel_size=(3, 3), activation=\"relu\"),\n",
    "        Conv2D(10, kernel_size=(3, 3), activation=\"relu\"),\n",
    "        MaxPooling2D(pool_size=(2, 2)),\n",
    "        Dropout(0.1),\n",
    "        Flatten(),\n",
    "        Dropout(0.1),\n",
    "        Dense(256, activation = \"relu\"),\n",
    "        Dropout(0.1),\n",
    "        Dense(3, activation=\"softmax\"),\n",
    "    ]\n",
    ")"
   ]
  },
  {
   "cell_type": "markdown",
   "metadata": {},
   "source": [
    "We can significantly improve our accuracy by using a more advanced architecture and a few changed parameters"
   ]
  },
  {
   "cell_type": "code",
   "execution_count": 9,
   "metadata": {},
   "outputs": [
    {
     "name": "stdout",
     "output_type": "stream",
     "text": [
      "Epoch 1/10\n",
      "102/102 [==============================] - 10s 95ms/step - loss: 1.3650 - accuracy: 0.8327 - val_loss: 0.2391 - val_accuracy: 0.9411\n",
      "Epoch 2/10\n",
      "102/102 [==============================] - 10s 96ms/step - loss: 0.2889 - accuracy: 0.9128 - val_loss: 0.2170 - val_accuracy: 0.9472\n",
      "Epoch 3/10\n",
      "102/102 [==============================] - 9s 93ms/step - loss: 0.2352 - accuracy: 0.9306 - val_loss: 0.2062 - val_accuracy: 0.9337\n",
      "Epoch 4/10\n",
      "102/102 [==============================] - 9s 92ms/step - loss: 0.2061 - accuracy: 0.9407 - val_loss: 0.2248 - val_accuracy: 0.9362\n",
      "Epoch 5/10\n",
      "102/102 [==============================] - 10s 100ms/step - loss: 0.1980 - accuracy: 0.9401 - val_loss: 0.1738 - val_accuracy: 0.9448\n",
      "Epoch 6/10\n",
      "102/102 [==============================] - 12s 115ms/step - loss: 0.1778 - accuracy: 0.9457 - val_loss: 0.2316 - val_accuracy: 0.9350\n",
      "Epoch 7/10\n",
      "102/102 [==============================] - 12s 117ms/step - loss: 0.1637 - accuracy: 0.9460 - val_loss: 0.2023 - val_accuracy: 0.9374\n",
      "Epoch 8/10\n",
      "102/102 [==============================] - 10s 99ms/step - loss: 0.1448 - accuracy: 0.9527 - val_loss: 0.2194 - val_accuracy: 0.9436\n",
      "Epoch 9/10\n",
      "102/102 [==============================] - 11s 110ms/step - loss: 0.1466 - accuracy: 0.9543 - val_loss: 0.1896 - val_accuracy: 0.9497\n",
      "Epoch 10/10\n",
      "102/102 [==============================] - 11s 105ms/step - loss: 0.1397 - accuracy: 0.9549 - val_loss: 0.1771 - val_accuracy: 0.9558\n"
     ]
    }
   ],
   "source": [
    "\n",
    "model.compile(\n",
    "    optimizer='rmsprop',\n",
    "    loss='CategoricalCrossentropy',\n",
    "    metrics=['accuracy']\n",
    ")\n",
    "\n",
    "callback = EarlyStopping(monitor='val_loss', mode='min', verbose=1, patience=200)\n",
    "\n",
    "model_hist = model.fit(\n",
    "    train_x,\n",
    "    train_y,\n",
    "    validation_data = (test_x, test_y),\n",
    "    epochs = 10,\n",
    "    verbose = 1,\n",
    "    callbacks = [callback]\n",
    ")"
   ]
  },
  {
   "cell_type": "markdown",
   "metadata": {},
   "source": [
    "Overall, we get excellent results for CNN"
   ]
  },
  {
   "cell_type": "code",
   "execution_count": 11,
   "metadata": {},
   "outputs": [
    {
     "name": "stdout",
     "output_type": "stream",
     "text": [
      "accuracy: 0.9558282208588957\n",
      "recall: 0.9558282208588957\n",
      "precision: 0.9558282208588957\n"
     ]
    }
   ],
   "source": [
    "import S4_0_Helper_Functions\n",
    "\n",
    "\n",
    "preds = model.predict(\n",
    "    test_x\n",
    ")\n",
    "\n",
    "S4_0_Helper_Functions.getAccuracyMetrics(preds, test_y)"
   ]
  }
 ],
 "metadata": {
  "interpreter": {
   "hash": "8b97f87722be283d127c9677e5f24424f6cc3995624eb5ed09943429763561ca"
  },
  "kernelspec": {
   "display_name": "Python 3.10.2 64-bit",
   "language": "python",
   "name": "python3"
  },
  "language_info": {
   "codemirror_mode": {
    "name": "ipython",
    "version": 3
   },
   "file_extension": ".py",
   "mimetype": "text/x-python",
   "name": "python",
   "nbconvert_exporter": "python",
   "pygments_lexer": "ipython3",
   "version": "3.10.2"
  },
  "orig_nbformat": 4
 },
 "nbformat": 4,
 "nbformat_minor": 2
}
