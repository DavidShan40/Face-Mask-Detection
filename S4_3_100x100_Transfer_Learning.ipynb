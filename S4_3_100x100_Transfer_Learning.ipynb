{
 "cells": [
  {
   "cell_type": "code",
   "execution_count": 1,
   "metadata": {},
   "outputs": [],
   "source": [
    "import pandas as pd\n",
    "import numpy as np\n",
    "import S2_0_Loading_Data\n",
    "from keras.applications import vgg16\n",
    "from tensorflow.keras.applications import InceptionResNetV2, EfficientNetB7\n",
    "import tensorflow as tf\n",
    "from keras.models import Sequential\n",
    "from keras.layers import Dense, Dropout, Activation, Flatten, BatchNormalization\n",
    "from keras.regularizers import L2\n",
    "from keras.callbacks import EarlyStopping\n",
    "import keras\n",
    "import S4_0_Helper_Functions"
   ]
  },
  {
   "cell_type": "code",
   "execution_count": 2,
   "metadata": {},
   "outputs": [
    {
     "data": {
      "text/plain": [
       "(3257, 100, 100, 3)"
      ]
     },
     "execution_count": 2,
     "metadata": {},
     "output_type": "execute_result"
    }
   ],
   "source": [
    "train_x, test_x, train_y, test_y = S2_0_Loading_Data.load_data(image_size=(100, 100))\n",
    "train_x.shape"
   ]
  },
  {
   "cell_type": "code",
   "execution_count": 3,
   "metadata": {},
   "outputs": [
    {
     "name": "stdout",
     "output_type": "stream",
     "text": [
      "Model: \"vgg16\"\n",
      "_________________________________________________________________\n",
      " Layer (type)                Output Shape              Param #   \n",
      "=================================================================\n",
      " input_1 (InputLayer)        [(None, 100, 100, 3)]     0         \n",
      "                                                                 \n",
      " block1_conv1 (Conv2D)       (None, 100, 100, 64)      1792      \n",
      "                                                                 \n",
      " block1_conv2 (Conv2D)       (None, 100, 100, 64)      36928     \n",
      "                                                                 \n",
      " block1_pool (MaxPooling2D)  (None, 50, 50, 64)        0         \n",
      "                                                                 \n",
      " block2_conv1 (Conv2D)       (None, 50, 50, 128)       73856     \n",
      "                                                                 \n",
      " block2_conv2 (Conv2D)       (None, 50, 50, 128)       147584    \n",
      "                                                                 \n",
      " block2_pool (MaxPooling2D)  (None, 25, 25, 128)       0         \n",
      "                                                                 \n",
      " block3_conv1 (Conv2D)       (None, 25, 25, 256)       295168    \n",
      "                                                                 \n",
      " block3_conv2 (Conv2D)       (None, 25, 25, 256)       590080    \n",
      "                                                                 \n",
      " block3_conv3 (Conv2D)       (None, 25, 25, 256)       590080    \n",
      "                                                                 \n",
      " block3_pool (MaxPooling2D)  (None, 12, 12, 256)       0         \n",
      "                                                                 \n",
      " block4_conv1 (Conv2D)       (None, 12, 12, 512)       1180160   \n",
      "                                                                 \n",
      " block4_conv2 (Conv2D)       (None, 12, 12, 512)       2359808   \n",
      "                                                                 \n",
      " block4_conv3 (Conv2D)       (None, 12, 12, 512)       2359808   \n",
      "                                                                 \n",
      " block4_pool (MaxPooling2D)  (None, 6, 6, 512)         0         \n",
      "                                                                 \n",
      " block5_conv1 (Conv2D)       (None, 6, 6, 512)         2359808   \n",
      "                                                                 \n",
      " block5_conv2 (Conv2D)       (None, 6, 6, 512)         2359808   \n",
      "                                                                 \n",
      " block5_conv3 (Conv2D)       (None, 6, 6, 512)         2359808   \n",
      "                                                                 \n",
      " block5_pool (MaxPooling2D)  (None, 3, 3, 512)         0         \n",
      "                                                                 \n",
      "=================================================================\n",
      "Total params: 14,714,688\n",
      "Trainable params: 14,714,688\n",
      "Non-trainable params: 0\n",
      "_________________________________________________________________\n"
     ]
    }
   ],
   "source": [
    "pretrained_vgg = vgg16.VGG16(weights='imagenet', include_top=False, input_shape=(100, 100, 3))\n",
    "pretrained_vgg.summary()"
   ]
  },
  {
   "cell_type": "code",
   "execution_count": 4,
   "metadata": {},
   "outputs": [
    {
     "name": "stdout",
     "output_type": "stream",
     "text": [
      "Model: \"sequential\"\n",
      "_________________________________________________________________\n",
      " Layer (type)                Output Shape              Param #   \n",
      "=================================================================\n",
      " vgg16 (Functional)          (None, 3, 3, 512)         14714688  \n",
      "                                                                 \n",
      " flatten (Flatten)           (None, 4608)              0         \n",
      "                                                                 \n",
      " dense (Dense)               (None, 512)               2359808   \n",
      "                                                                 \n",
      " activation (Activation)     (None, 512)               0         \n",
      "                                                                 \n",
      " batch_normalization (BatchN  (None, 512)              2048      \n",
      " ormalization)                                                   \n",
      "                                                                 \n",
      " dropout (Dropout)           (None, 512)               0         \n",
      "                                                                 \n",
      " dense_1 (Dense)             (None, 3)                 1539      \n",
      "                                                                 \n",
      " activation_1 (Activation)   (None, 3)                 0         \n",
      "                                                                 \n",
      "=================================================================\n",
      "Total params: 17,078,083\n",
      "Trainable params: 2,362,371\n",
      "Non-trainable params: 14,715,712\n",
      "_________________________________________________________________\n"
     ]
    }
   ],
   "source": [
    "weight_decay = 0.0005\n",
    "for layer in pretrained_vgg.layers:\n",
    "    layer.trainable = False\n",
    "model = Sequential()\n",
    "model.add(pretrained_vgg)\n",
    "model.add(Flatten())\n",
    "model.add(Dense(512, kernel_regularizer=L2(weight_decay)))\n",
    "model.add(Activation('relu'))\n",
    "model.add(BatchNormalization())\n",
    "\n",
    "model.add(Dropout(0.5))\n",
    "model.add(Dense(3))\n",
    "model.add(Activation('softmax'))\n",
    "\n",
    "model.summary()"
   ]
  },
  {
   "cell_type": "code",
   "execution_count": 5,
   "metadata": {},
   "outputs": [],
   "source": [
    "# compile model\n",
    "model.compile(\n",
    "    optimizer='rmsprop',\n",
    "    loss='CategoricalCrossentropy',\n",
    "    metrics=['accuracy']\n",
    ")\n"
   ]
  },
  {
   "cell_type": "code",
   "execution_count": 6,
   "metadata": {},
   "outputs": [
    {
     "name": "stdout",
     "output_type": "stream",
     "text": [
      "Epoch 1/10\n",
      "102/102 [==============================] - 78s 763ms/step - loss: 1.0518 - accuracy: 0.8081 - val_loss: 1.0099 - val_accuracy: 0.7963\n",
      "Epoch 2/10\n",
      "102/102 [==============================] - 78s 767ms/step - loss: 0.4592 - accuracy: 0.9364 - val_loss: 1.4329 - val_accuracy: 0.8491\n",
      "Epoch 3/10\n",
      "102/102 [==============================] - 79s 777ms/step - loss: 0.3378 - accuracy: 0.9564 - val_loss: 1.0742 - val_accuracy: 0.8748\n",
      "Epoch 4/10\n",
      "102/102 [==============================] - 76s 750ms/step - loss: 0.2777 - accuracy: 0.9628 - val_loss: 1.4771 - val_accuracy: 0.8184\n",
      "Epoch 5/10\n",
      "102/102 [==============================] - 78s 770ms/step - loss: 0.2403 - accuracy: 0.9705 - val_loss: 0.6223 - val_accuracy: 0.9104\n",
      "Epoch 6/10\n",
      "102/102 [==============================] - 79s 778ms/step - loss: 0.2271 - accuracy: 0.9690 - val_loss: 0.6579 - val_accuracy: 0.9153\n",
      "Epoch 7/10\n",
      "102/102 [==============================] - 78s 766ms/step - loss: 0.2236 - accuracy: 0.9699 - val_loss: 0.8594 - val_accuracy: 0.8871\n",
      "Epoch 8/10\n",
      "102/102 [==============================] - 79s 772ms/step - loss: 0.2045 - accuracy: 0.9675 - val_loss: 1.2104 - val_accuracy: 0.8466\n",
      "Epoch 9/10\n",
      "102/102 [==============================] - 79s 781ms/step - loss: 0.2064 - accuracy: 0.9705 - val_loss: 0.9081 - val_accuracy: 0.8785\n",
      "Epoch 10/10\n",
      "102/102 [==============================] - 78s 764ms/step - loss: 0.1921 - accuracy: 0.9727 - val_loss: 30.9660 - val_accuracy: 0.7706\n"
     ]
    }
   ],
   "source": [
    "callback = EarlyStopping(monitor='val_loss', mode='min', verbose=1, patience=200)\n",
    "\n",
    "model_hist = model.fit(\n",
    "    train_x,\n",
    "    train_y,\n",
    "    validation_data = (test_x, test_y),\n",
    "    epochs = 10,\n",
    "    verbose = 1,\n",
    "    callbacks = [callback]\n",
    ")"
   ]
  },
  {
   "cell_type": "markdown",
   "metadata": {},
   "source": [
    "Accuracy peaks at around 92%. We suspect that with a better computing and more time, having more epochs may increase accuracy further."
   ]
  },
  {
   "cell_type": "code",
   "execution_count": 7,
   "metadata": {},
   "outputs": [
    {
     "name": "stdout",
     "output_type": "stream",
     "text": [
      "accuracy: 0.7705521472392638\n",
      "recall: 0.7705521472392638\n",
      "precision: 0.7705521472392638\n"
     ]
    }
   ],
   "source": [
    "preds = model.predict(\n",
    "    test_x\n",
    ")\n",
    "\n",
    "S4_0_Helper_Functions.getAccuracyMetrics(preds, test_y)"
   ]
  },
  {
   "cell_type": "code",
   "execution_count": 8,
   "metadata": {},
   "outputs": [],
   "source": [
    "keras.backend.clear_session()"
   ]
  },
  {
   "cell_type": "code",
   "execution_count": 9,
   "metadata": {},
   "outputs": [],
   "source": [
    "pretrained_ENB7 = EfficientNetB7(weights='imagenet', include_top=False, input_shape=(100, 100, 3))"
   ]
  },
  {
   "cell_type": "code",
   "execution_count": 10,
   "metadata": {},
   "outputs": [],
   "source": [
    "weight_decay = 0.0005\n",
    "for layer in pretrained_ENB7.layers:\n",
    "    layer.trainable = False\n",
    "model = Sequential()\n",
    "model.add(pretrained_ENB7)\n",
    "model.add(Flatten())\n",
    "model.add(Dense(512, kernel_regularizer=L2(weight_decay)))\n",
    "model.add(Activation('relu'))\n",
    "model.add(BatchNormalization())\n",
    "\n",
    "model.add(Dropout(0.5))\n",
    "model.add(Dense(3))\n",
    "model.add(Activation('softmax'))"
   ]
  },
  {
   "cell_type": "code",
   "execution_count": 11,
   "metadata": {},
   "outputs": [
    {
     "name": "stdout",
     "output_type": "stream",
     "text": [
      "Model: \"sequential\"\n",
      "_________________________________________________________________\n",
      " Layer (type)                Output Shape              Param #   \n",
      "=================================================================\n",
      " efficientnetb7 (Functional)  (None, 4, 4, 2560)       64097687  \n",
      "                                                                 \n",
      " flatten (Flatten)           (None, 40960)             0         \n",
      "                                                                 \n",
      " dense (Dense)               (None, 512)               20972032  \n",
      "                                                                 \n",
      " activation (Activation)     (None, 512)               0         \n",
      "                                                                 \n",
      " batch_normalization (BatchN  (None, 512)              2048      \n",
      " ormalization)                                                   \n",
      "                                                                 \n",
      " dropout (Dropout)           (None, 512)               0         \n",
      "                                                                 \n",
      " dense_1 (Dense)             (None, 3)                 1539      \n",
      "                                                                 \n",
      " activation_1 (Activation)   (None, 3)                 0         \n",
      "                                                                 \n",
      "=================================================================\n",
      "Total params: 85,073,306\n",
      "Trainable params: 20,974,595\n",
      "Non-trainable params: 64,098,711\n",
      "_________________________________________________________________\n"
     ]
    }
   ],
   "source": [
    "# compile model\n",
    "METRICS = [\n",
    "      keras.metrics.TruePositives(name='tp'),\n",
    "      keras.metrics.FalsePositives(name='fp'),\n",
    "      keras.metrics.TrueNegatives(name='tn'),\n",
    "      keras.metrics.FalseNegatives(name='fn'), \n",
    "      keras.metrics.CategoricalAccuracy(name='accuracy'),\n",
    "      keras.metrics.Precision(name='precision'),\n",
    "      keras.metrics.Recall(name='recall'),\n",
    "      keras.metrics.AUC(name='auc'),\n",
    "      keras.metrics.AUC(name='prc', curve='PR'), # precision-recall curve\n",
    "]\n",
    "\n",
    "model.compile(optimizer=tf.keras.optimizers.Adam(learning_rate=1e-3),\n",
    "              loss='CategoricalCrossentropy',\n",
    "              metrics=METRICS)\n",
    "\n",
    "# view model layers\n",
    "model.summary()"
   ]
  },
  {
   "cell_type": "code",
   "execution_count": 12,
   "metadata": {},
   "outputs": [
    {
     "name": "stdout",
     "output_type": "stream",
     "text": [
      "102/102 [==============================] - 173s 2s/step - loss: 1.5060 - tp: 2303.0000 - fp: 683.0000 - tn: 5831.0000 - fn: 954.0000 - accuracy: 0.7430 - precision: 0.7713 - recall: 0.7071 - auc: 0.8720 - prc: 0.7732 - val_loss: 1.3300 - val_tp: 597.0000 - val_fp: 181.0000 - val_tn: 1449.0000 - val_fn: 218.0000 - val_accuracy: 0.7583 - val_precision: 0.7674 - val_recall: 0.7325 - val_auc: 0.8920 - val_prc: 0.8141\n"
     ]
    }
   ],
   "source": [
    "callback = EarlyStopping(monitor='val_prc', mode='max',min_delta = 0.01, verbose=1, patience=10,restore_best_weights=True)\n",
    "\n",
    "model_hist = model.fit(\n",
    "    train_x,\n",
    "    train_y,\n",
    "    validation_data = (test_x, test_y),\n",
    "    epochs = 1, # increase if you have a good computer\n",
    "    verbose = 1,\n",
    "    callbacks = [callback]\n",
    ")"
   ]
  },
  {
   "cell_type": "code",
   "execution_count": 13,
   "metadata": {},
   "outputs": [
    {
     "name": "stdout",
     "output_type": "stream",
     "text": [
      "accuracy: 0.758282208588957\n",
      "recall: 0.758282208588957\n",
      "precision: 0.758282208588957\n"
     ]
    }
   ],
   "source": [
    "preds = model.predict(\n",
    "    test_x\n",
    ")\n",
    "\n",
    "S4_0_Helper_Functions.getAccuracyMetrics(preds, test_y)"
   ]
  },
  {
   "cell_type": "code",
   "execution_count": 14,
   "metadata": {},
   "outputs": [],
   "source": [
    "keras.backend.clear_session()"
   ]
  },
  {
   "cell_type": "code",
   "execution_count": 15,
   "metadata": {},
   "outputs": [],
   "source": [
    "pretrained_IRNV2 = InceptionResNetV2(weights='imagenet', include_top=False, input_shape=(100, 100, 3))"
   ]
  },
  {
   "cell_type": "code",
   "execution_count": 16,
   "metadata": {},
   "outputs": [
    {
     "name": "stdout",
     "output_type": "stream",
     "text": [
      "Model: \"sequential\"\n",
      "_________________________________________________________________\n",
      " Layer (type)                Output Shape              Param #   \n",
      "=================================================================\n",
      " inception_resnet_v2 (Functi  (None, 1, 1, 1536)       54336736  \n",
      " onal)                                                           \n",
      "                                                                 \n",
      " flatten (Flatten)           (None, 1536)              0         \n",
      "                                                                 \n",
      " dense (Dense)               (None, 512)               786944    \n",
      "                                                                 \n",
      " activation_203 (Activation)  (None, 512)              0         \n",
      "                                                                 \n",
      " batch_normalization_203 (Ba  (None, 512)              2048      \n",
      " tchNormalization)                                               \n",
      "                                                                 \n",
      " dropout (Dropout)           (None, 512)               0         \n",
      "                                                                 \n",
      " dense_1 (Dense)             (None, 3)                 1539      \n",
      "                                                                 \n",
      " activation_204 (Activation)  (None, 3)                0         \n",
      "                                                                 \n",
      "=================================================================\n",
      "Total params: 55,127,267\n",
      "Trainable params: 789,507\n",
      "Non-trainable params: 54,337,760\n",
      "_________________________________________________________________\n"
     ]
    }
   ],
   "source": [
    "weight_decay = 0.0005\n",
    "for layer in pretrained_IRNV2.layers:\n",
    "    layer.trainable = False\n",
    "model = Sequential()\n",
    "model.add(pretrained_IRNV2)\n",
    "model.add(Flatten())\n",
    "model.add(Dense(512, kernel_regularizer=L2(weight_decay)))\n",
    "model.add(Activation('relu'))\n",
    "model.add(BatchNormalization())\n",
    "\n",
    "model.add(Dropout(0.5))\n",
    "model.add(Dense(3))\n",
    "model.add(Activation('softmax'))\n",
    "\n",
    "model.compile(optimizer=tf.keras.optimizers.Adam(learning_rate=1e-3),\n",
    "              loss='CategoricalCrossentropy',\n",
    "              metrics=METRICS)\n",
    "\n",
    "# view model layers\n",
    "model.summary()"
   ]
  },
  {
   "cell_type": "code",
   "execution_count": 17,
   "metadata": {},
   "outputs": [
    {
     "name": "stdout",
     "output_type": "stream",
     "text": [
      "102/102 [==============================] - 103s 889ms/step - loss: 0.9796 - tp: 2715.0000 - fp: 844.0000 - tn: 7300.0000 - fn: 1357.0000 - accuracy: 0.7274 - precision: 0.7629 - recall: 0.6667 - auc: 0.8679 - prc: 0.7794 - val_loss: 1.1042 - val_tp: 630.0000 - val_fp: 179.0000 - val_tn: 1451.0000 - val_fn: 185.0000 - val_accuracy: 0.7755 - val_precision: 0.7787 - val_recall: 0.7730 - val_auc: 0.9187 - val_prc: 0.8608\n"
     ]
    }
   ],
   "source": [
    "callback = EarlyStopping(monitor='val_prc', mode='max',min_delta = 0.01, verbose=1, patience=10,restore_best_weights=True)\n",
    "\n",
    "model_hist = model.fit(\n",
    "    train_x,\n",
    "    train_y,\n",
    "    validation_data = (test_x, test_y),\n",
    "    epochs = 1, # increase if you have a good computer\n",
    "    verbose = 1,\n",
    "    callbacks = [callback]\n",
    ")"
   ]
  },
  {
   "cell_type": "code",
   "execution_count": 18,
   "metadata": {},
   "outputs": [
    {
     "name": "stdout",
     "output_type": "stream",
     "text": [
      "accuracy: 0.7754601226993865\n",
      "recall: 0.7754601226993865\n",
      "precision: 0.7754601226993865\n"
     ]
    }
   ],
   "source": [
    "preds = model.predict(\n",
    "    test_x\n",
    ")\n",
    "\n",
    "S4_0_Helper_Functions.getAccuracyMetrics(preds, test_y)"
   ]
  }
 ],
 "metadata": {
  "interpreter": {
   "hash": "8b97f87722be283d127c9677e5f24424f6cc3995624eb5ed09943429763561ca"
  },
  "kernelspec": {
   "display_name": "Python 3.10.2 64-bit",
   "language": "python",
   "name": "python3"
  },
  "language_info": {
   "codemirror_mode": {
    "name": "ipython",
    "version": 3
   },
   "file_extension": ".py",
   "mimetype": "text/x-python",
   "name": "python",
   "nbconvert_exporter": "python",
   "pygments_lexer": "ipython3",
   "version": "3.10.2"
  },
  "orig_nbformat": 4
 },
 "nbformat": 4,
 "nbformat_minor": 2
}
