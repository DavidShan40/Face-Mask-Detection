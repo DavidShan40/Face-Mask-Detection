{
 "cells": [
  {
   "cell_type": "code",
   "execution_count": 1,
   "id": "dff1019d",
   "metadata": {
    "_cell_guid": "b1076dfc-b9ad-4769-8c92-a6c4dae69d19",
    "_uuid": "8f2839f25d086af736a60e9eeb907d3b93b6e0e5",
    "execution": {
     "iopub.execute_input": "2022-03-31T00:42:31.753963Z",
     "iopub.status.busy": "2022-03-31T00:42:31.753287Z",
     "iopub.status.idle": "2022-03-31T00:42:40.703204Z",
     "shell.execute_reply": "2022-03-31T00:42:40.703971Z",
     "shell.execute_reply.started": "2022-03-30T22:00:03.120237Z"
    },
    "papermill": {
     "duration": 8.984903,
     "end_time": "2022-03-31T00:42:40.704343",
     "exception": false,
     "start_time": "2022-03-31T00:42:31.719440",
     "status": "completed"
    },
    "tags": []
   },
   "outputs": [],
   "source": [
    "import pandas as pd\n",
    "import numpy as np\n",
    "import glob\n",
    "import xml.etree.ElementTree as ET \n",
    "import matplotlib.pyplot as plt\n",
    "import os\n",
    "import cv2\n",
    "from PIL import Image\n",
    "import matplotlib.pyplot as plt\n",
    "import random\n",
    "#  Keras preprocessing\n",
    "from keras.preprocessing.image import ImageDataGenerator"
   ]
  },
  {
   "cell_type": "markdown",
   "id": "c1857d4e",
   "metadata": {},
   "source": [
    "## Please note that this file was run in the Kaggle environment due to computing limitations."
   ]
  },
  {
   "cell_type": "code",
   "execution_count": 2,
   "id": "873c18b6",
   "metadata": {
    "execution": {
     "iopub.execute_input": "2022-03-31T00:42:40.755217Z",
     "iopub.status.busy": "2022-03-31T00:42:40.743421Z",
     "iopub.status.idle": "2022-03-31T00:42:44.959950Z",
     "shell.execute_reply": "2022-03-31T00:42:44.959365Z",
     "shell.execute_reply.started": "2022-03-30T22:00:12.898512Z"
    },
    "papermill": {
     "duration": 4.237129,
     "end_time": "2022-03-31T00:42:44.960103",
     "exception": false,
     "start_time": "2022-03-31T00:42:40.722974",
     "status": "completed"
    },
    "tags": []
   },
   "outputs": [],
   "source": [
    "# change the path for different folder locations\n",
    "folder_path = \"../input/face-mask-detection/\"\n",
    "path = folder_path + \"annotations/\"\n",
    "path_images =  folder_path +\"images/\"\n",
    "data = {\"xmin\":[], \"ymin\":[], \"xmax\":[], \"ymax\":[], \"name\":[], \"file\":[], \"width\":[], \"height\":[]}\n",
    "for anno in glob.glob(path+\"/*.xml\"):\n",
    "    tree = ET.parse(anno)\n",
    "    for elem in tree.iter():\n",
    "        if 'size' in elem.tag:\n",
    "            for attr in list(elem):\n",
    "                if 'width' in attr.tag: \n",
    "                    width = int(round(float(attr.text)))\n",
    "                if 'height' in attr.tag:\n",
    "                    height = int(round(float(attr.text)))    \n",
    "\n",
    "        if 'object' in elem.tag:\n",
    "            for attr in list(elem): \n",
    "                if 'name' in attr.tag:\n",
    "                    name = attr.text                 \n",
    "                    data['name']+=[name]\n",
    "                    data['width']+=[width]\n",
    "                    data['height']+=[height] \n",
    "                    data['file']+=[anno.split('/')[-1][0:-4]] \n",
    "                            \n",
    "                if 'bndbox' in attr.tag:\n",
    "                    for dim in list(attr):\n",
    "                        if 'xmin' in dim.tag:\n",
    "                            xmin = int(round(float(dim.text)))\n",
    "                            data['xmin']+=[xmin]\n",
    "                        if 'ymin' in dim.tag:\n",
    "                            ymin = int(round(float(dim.text)))\n",
    "                            data['ymin']+=[ymin]                                \n",
    "                        if 'xmax' in dim.tag:\n",
    "                            xmax = int(round(float(dim.text)))\n",
    "                            data['xmax']+=[xmax]                                \n",
    "                        if 'ymax' in dim.tag:\n",
    "                            ymax = int(round(float(dim.text)))\n",
    "                            data['ymax']+=[ymax]"
   ]
  },
  {
   "cell_type": "code",
   "execution_count": 3,
   "id": "f6714474",
   "metadata": {
    "execution": {
     "iopub.execute_input": "2022-03-31T00:42:45.001507Z",
     "iopub.status.busy": "2022-03-31T00:42:45.000513Z",
     "iopub.status.idle": "2022-03-31T00:44:03.072712Z",
     "shell.execute_reply": "2022-03-31T00:44:03.073199Z",
     "shell.execute_reply.started": "2022-03-30T22:00:17.022156Z"
    },
    "papermill": {
     "duration": 78.094682,
     "end_time": "2022-03-31T00:44:03.073394",
     "exception": false,
     "start_time": "2022-03-31T00:42:44.978712",
     "status": "completed"
    },
    "tags": []
   },
   "outputs": [
    {
     "name": "stderr",
     "output_type": "stream",
     "text": [
      "/opt/conda/lib/python3.7/site-packages/pandas/core/indexing.py:1732: SettingWithCopyWarning: \n",
      "A value is trying to be set on a copy of a slice from a DataFrame\n",
      "\n",
      "See the caveats in the documentation: https://pandas.pydata.org/pandas-docs/stable/user_guide/indexing.html#returning-a-view-versus-a-copy\n",
      "  self._setitem_single_block(indexer, value, name)\n"
     ]
    }
   ],
   "source": [
    "# if file exists, ignore this one\n",
    "\n",
    "directory = 'cropped_images'\n",
    "folder_path = '/kaggle/working' # if not in kaggle editor, delete this line\n",
    "# folder_path = folder_path\n",
    "path = os.path.join(folder_path,directory)\n",
    "os.mkdir(path)\n",
    "data = pd.DataFrame(data)\n",
    "data['cropped_image'] = data['file']\n",
    "for i in range(len(data)):\n",
    "    # find the file path and read images\n",
    "    image_path = path_images + data['file'].iloc[i] +'.png'\n",
    "    image = cv2.imread(image_path)\n",
    "    # set the file name for cropped images\n",
    "    data['cropped_image'].iloc[i] = data['file'].iloc[i] + '-' + str(i) + '.png'\n",
    "    cropped_image_name = data['cropped_image'].iloc[i]\n",
    "    # use the bounding box to crop images\n",
    "    xmin = data['xmin'].iloc[i]; ymin = data['ymin'].iloc[i]\n",
    "    xmax = data['xmax'].iloc[i]; ymax = data['ymax'].iloc[i]\n",
    "    # Crop The Image Based on The Values Above\n",
    "    cropped_image = image[ymin:ymax, xmin:xmax]\n",
    "    # Save Cropped Image\n",
    "    cropped_image_directory = os.path.join(path, cropped_image_name) \n",
    "    cv2.imwrite(cropped_image_directory, cropped_image)"
   ]
  },
  {
   "cell_type": "code",
   "execution_count": 4,
   "id": "47d21dfa",
   "metadata": {
    "execution": {
     "iopub.execute_input": "2022-03-31T00:44:03.119120Z",
     "iopub.status.busy": "2022-03-31T00:44:03.118167Z",
     "iopub.status.idle": "2022-03-31T00:44:03.178455Z",
     "shell.execute_reply": "2022-03-31T00:44:03.179020Z",
     "shell.execute_reply.started": "2022-03-30T22:01:36.858355Z"
    },
    "papermill": {
     "duration": 0.08622,
     "end_time": "2022-03-31T00:44:03.179209",
     "exception": false,
     "start_time": "2022-03-31T00:44:03.092989",
     "status": "completed"
    },
    "tags": []
   },
   "outputs": [],
   "source": [
    "cropped_images = !ls './cropped_images'\n",
    "# 20% testing data index\n",
    "random.seed(1234)\n",
    "test_data_index = random.sample(range(len(cropped_images)), int(len(cropped_images)/5))\n",
    "test = data.loc[test_data_index]\n",
    "train = data.loc[~data.index.isin(test_data_index)]"
   ]
  },
  {
   "cell_type": "code",
   "execution_count": 5,
   "id": "2812ccac",
   "metadata": {
    "execution": {
     "iopub.execute_input": "2022-03-31T00:44:03.221274Z",
     "iopub.status.busy": "2022-03-31T00:44:03.220597Z",
     "iopub.status.idle": "2022-03-31T00:44:03.222607Z",
     "shell.execute_reply": "2022-03-31T00:44:03.223064Z",
     "shell.execute_reply.started": "2022-03-30T22:01:36.934502Z"
    },
    "papermill": {
     "duration": 0.026183,
     "end_time": "2022-03-31T00:44:03.223248",
     "exception": false,
     "start_time": "2022-03-31T00:44:03.197065",
     "status": "completed"
    },
    "tags": []
   },
   "outputs": [],
   "source": [
    "path = path\n",
    "batch_size = 40\n",
    "target_size = (100,100)\n",
    "epochs = 40\n",
    "seed = 1234\n",
    "num_train_samples = train.shape[0]\n",
    "num_test_samples = test.shape[0]"
   ]
  },
  {
   "cell_type": "code",
   "execution_count": 6,
   "id": "bd0a01de",
   "metadata": {
    "execution": {
     "iopub.execute_input": "2022-03-31T00:44:03.268164Z",
     "iopub.status.busy": "2022-03-31T00:44:03.262023Z",
     "iopub.status.idle": "2022-03-31T00:44:03.363418Z",
     "shell.execute_reply": "2022-03-31T00:44:03.363943Z",
     "shell.execute_reply.started": "2022-03-30T22:01:36.942333Z"
    },
    "papermill": {
     "duration": 0.122827,
     "end_time": "2022-03-31T00:44:03.364112",
     "exception": false,
     "start_time": "2022-03-31T00:44:03.241285",
     "status": "completed"
    },
    "tags": []
   },
   "outputs": [
    {
     "name": "stdout",
     "output_type": "stream",
     "text": [
      "Training data\n",
      "Found 2607 validated image filenames belonging to 3 classes.\n",
      "Validation data\n",
      "Found 651 validated image filenames belonging to 3 classes.\n",
      "Test data\n",
      "Found 814 validated image filenames.\n"
     ]
    }
   ],
   "source": [
    "image_generator = ImageDataGenerator(\n",
    "    validation_split=0.2)\n",
    "print('Training data')\n",
    "training_generator = image_generator.flow_from_dataframe(\n",
    "    rescale=1.0/255.0,\n",
    "    dataframe=train,\n",
    "    directory=path,\n",
    "    x_col=\"cropped_image\",\n",
    "    y_col=\"name\",\n",
    "    target_size=target_size,\n",
    "    class_mode='categorical',\n",
    "    batch_size=batch_size,\n",
    "    subset=\"training\",\n",
    "    seed = seed\n",
    ")\n",
    "print('Validation data')\n",
    "validation_generator = image_generator.flow_from_dataframe(\n",
    "    rescale=1.0/255.0,\n",
    "    dataframe=train,\n",
    "    directory=path,\n",
    "    x_col=\"cropped_image\",\n",
    "    y_col=\"name\",\n",
    "    target_size=target_size,\n",
    "    class_mode='categorical',\n",
    "    batch_size=batch_size,\n",
    "    subset=\"validation\",\n",
    "    seed = seed\n",
    ")\n",
    "print('Test data')\n",
    "test_image_gen = ImageDataGenerator()\n",
    "test_generator = test_image_gen.flow_from_dataframe(\n",
    "    rescale=1.0/255.0,\n",
    "    dataframe=test,\n",
    "    directory=path,\n",
    "    x_col='cropped_image',\n",
    "    y_col=None,\n",
    "    class_mode=None,\n",
    "    target_size=target_size,\n",
    "    batch_size=batch_size,\n",
    "    shuffle=False,\n",
    "    seed = seed\n",
    ")"
   ]
  },
  {
   "cell_type": "code",
   "execution_count": 7,
   "id": "c93295a9",
   "metadata": {
    "execution": {
     "iopub.execute_input": "2022-03-31T00:44:03.405592Z",
     "iopub.status.busy": "2022-03-31T00:44:03.404958Z",
     "iopub.status.idle": "2022-03-31T00:44:03.407998Z",
     "shell.execute_reply": "2022-03-31T00:44:03.407402Z",
     "shell.execute_reply.started": "2022-03-30T22:01:37.059006Z"
    },
    "papermill": {
     "duration": 0.025618,
     "end_time": "2022-03-31T00:44:03.408137",
     "exception": false,
     "start_time": "2022-03-31T00:44:03.382519",
     "status": "completed"
    },
    "tags": []
   },
   "outputs": [],
   "source": [
    "IMG_SIZE = 100"
   ]
  },
  {
   "cell_type": "code",
   "execution_count": 8,
   "id": "8e050ebd",
   "metadata": {
    "execution": {
     "iopub.execute_input": "2022-03-31T00:44:03.454031Z",
     "iopub.status.busy": "2022-03-31T00:44:03.453008Z",
     "iopub.status.idle": "2022-03-31T00:44:03.457236Z",
     "shell.execute_reply": "2022-03-31T00:44:03.457837Z",
     "shell.execute_reply.started": "2022-03-30T22:01:37.065197Z"
    },
    "papermill": {
     "duration": 0.031635,
     "end_time": "2022-03-31T00:44:03.458008",
     "exception": false,
     "start_time": "2022-03-31T00:44:03.426373",
     "status": "completed"
    },
    "tags": []
   },
   "outputs": [],
   "source": [
    "# official document: https://keras.io/examples/vision/video_classification/\n",
    "def crop_center_square(frame):\n",
    "    y, x = frame.shape[0:2]\n",
    "    min_dim = min(y, x)\n",
    "    start_x = (x // 2) - (min_dim // 2)\n",
    "    start_y = (y // 2) - (min_dim // 2)\n",
    "    return frame[start_y : start_y + min_dim, start_x : start_x + min_dim]\n",
    "\n",
    "\n",
    "def load_video(path, max_frames=0, resize=(IMG_SIZE, IMG_SIZE)):\n",
    "    cap = cv2.VideoCapture(path)\n",
    "    frames = []\n",
    "    try:\n",
    "        while True:\n",
    "            ret, frame = cap.read()\n",
    "            if not ret:\n",
    "                break\n",
    "            frame = crop_center_square(frame)\n",
    "            frame = cv2.resize(frame, resize)\n",
    "            frame = frame[:, :, [2, 1, 0]]\n",
    "            frames.append(frame)\n",
    "\n",
    "            if len(frames) == max_frames:\n",
    "                break\n",
    "    finally:\n",
    "        cap.release()\n",
    "    return np.array(frames)"
   ]
  },
  {
   "cell_type": "code",
   "execution_count": 9,
   "id": "2cf7a644",
   "metadata": {
    "execution": {
     "iopub.execute_input": "2022-03-31T00:44:03.501485Z",
     "iopub.status.busy": "2022-03-31T00:44:03.500729Z",
     "iopub.status.idle": "2022-03-31T00:44:15.602332Z",
     "shell.execute_reply": "2022-03-31T00:44:15.602839Z",
     "shell.execute_reply.started": "2022-03-30T22:01:37.080453Z"
    },
    "papermill": {
     "duration": 12.12663,
     "end_time": "2022-03-31T00:44:15.603012",
     "exception": false,
     "start_time": "2022-03-31T00:44:03.476382",
     "status": "completed"
    },
    "tags": []
   },
   "outputs": [
    {
     "data": {
      "text/plain": [
       "(1551, 100, 100, 3)"
      ]
     },
     "execution_count": 9,
     "metadata": {},
     "output_type": "execute_result"
    }
   ],
   "source": [
    "test_video = load_video('../input/face-mask-video/pexels-alan-w-8469243.mp4')\n",
    "test_video.shape"
   ]
  },
  {
   "cell_type": "code",
   "execution_count": 10,
   "id": "bf4abf52",
   "metadata": {
    "execution": {
     "iopub.execute_input": "2022-03-31T00:44:15.644102Z",
     "iopub.status.busy": "2022-03-31T00:44:15.643126Z",
     "iopub.status.idle": "2022-03-31T00:44:16.016874Z",
     "shell.execute_reply": "2022-03-31T00:44:16.017367Z",
     "shell.execute_reply.started": "2022-03-30T23:49:42.892570Z"
    },
    "papermill": {
     "duration": 0.395849,
     "end_time": "2022-03-31T00:44:16.017536",
     "exception": false,
     "start_time": "2022-03-31T00:44:15.621687",
     "status": "completed"
    },
    "tags": []
   },
   "outputs": [
    {
     "data": {
      "text/plain": [
       "-1"
      ]
     },
     "execution_count": 10,
     "metadata": {},
     "output_type": "execute_result"
    },
    {
     "data": {
      "image/png": "[encoded data removed]",
      "text/plain": [
       "<Figure size 432x288 with 1 Axes>"
      ]
     },
     "metadata": {
      "needs_background": "light"
     },
     "output_type": "display_data"
    }
   ],
   "source": [
    "import cv2\n",
    "import os\n",
    "import matplotlib.pyplot as plt\n",
    "\n",
    "  \n",
    "# Read the input image\n",
    "img = cv2.imread('../input/face-mask-detection/images/maksssksksss1.png')\n",
    "# Convert into grayscale\n",
    "gray = cv2.cvtColor(img, cv2.COLOR_BGR2GRAY)\n",
    "# Load the cascade\n",
    "cv2_base_dir = os.path.dirname(os.path.abspath(cv2.__file__))\n",
    "haar_model = os.path.join(cv2_base_dir, 'data/haarcascade_frontalface_default.xml')\n",
    "face_cascade = cv2.CascadeClassifier(haar_model)\n",
    "# Detect faces\n",
    "faces = face_cascade.detectMultiScale(gray, 1.3, 5)\n",
    "# Draw rectangle around the faces and crop the faces\n",
    "for (x, y, w, h) in faces:\n",
    "    cv2.rectangle(img, (x, y), (x+w, y+h), (0, 0, 255), 2)\n",
    "    faces = img[y:y + h, x:x + w]\n",
    "    plt.imshow(cv2.cvtColor(faces, cv2.COLOR_BGR2RGB))\n",
    "    cv2.imwrite('face.jpg', faces)\n",
    "      \n",
    "# Display the output\n",
    "cv2.imwrite('detcted.jpg', img)\n",
    "plt.imshow(cv2.cvtColor(img, cv2.COLOR_BGR2RGB))\n",
    "cv2.waitKey()\n"
   ]
  },
  {
   "cell_type": "markdown",
   "id": "6fa4a364",
   "metadata": {
    "papermill": {
     "duration": 0.022643,
     "end_time": "2022-03-31T00:44:16.062846",
     "exception": false,
     "start_time": "2022-03-31T00:44:16.040203",
     "status": "completed"
    },
    "tags": []
   },
   "source": [
    "Nothing is detected when number of people increases. So we are trying MTCNN and Facenet."
   ]
  },
  {
   "cell_type": "code",
   "execution_count": 11,
   "id": "9cce202c",
   "metadata": {
    "execution": {
     "iopub.execute_input": "2022-03-31T00:44:16.112639Z",
     "iopub.status.busy": "2022-03-31T00:44:16.111878Z",
     "iopub.status.idle": "2022-03-31T00:44:26.871610Z",
     "shell.execute_reply": "2022-03-31T00:44:26.870842Z",
     "shell.execute_reply.started": "2022-03-30T23:49:12.454466Z"
    },
    "papermill": {
     "duration": 10.78662,
     "end_time": "2022-03-31T00:44:26.871773",
     "exception": false,
     "start_time": "2022-03-31T00:44:16.085153",
     "status": "completed"
    },
    "tags": []
   },
   "outputs": [
    {
     "name": "stdout",
     "output_type": "stream",
     "text": [
      "Collecting mtcnn\r\n",
      "  Downloading mtcnn-0.1.1-py3-none-any.whl (2.3 MB)\r\n",
      "     |████████████████████████████████| 2.3 MB 4.4 MB/s            \r\n",
      "\u001b[?25hRequirement already satisfied: keras>=2.0.0 in /opt/conda/lib/python3.7/site-packages (from mtcnn) (2.6.0)\r\n",
      "Requirement already satisfied: opencv-python>=4.1.0 in /opt/conda/lib/python3.7/site-packages (from mtcnn) (4.5.4.60)\r\n",
      "Requirement already satisfied: numpy>=1.14.5 in /opt/conda/lib/python3.7/site-packages (from opencv-python>=4.1.0->mtcnn) (1.20.3)\r\n",
      "Installing collected packages: mtcnn\r\n",
      "Successfully installed mtcnn-0.1.1\r\n",
      "\u001b[33mWARNING: Running pip as the 'root' user can result in broken permissions and conflicting behaviour with the system package manager. It is recommended to use a virtual environment instead: https://pip.pypa.io/warnings/venv\u001b[0m\r\n"
     ]
    }
   ],
   "source": [
    "!pip install mtcnn"
   ]
  },
  {
   "cell_type": "code",
   "execution_count": 12,
   "id": "2996aa99",
   "metadata": {
    "execution": {
     "iopub.execute_input": "2022-03-31T00:44:26.929906Z",
     "iopub.status.busy": "2022-03-31T00:44:26.929228Z",
     "iopub.status.idle": "2022-03-31T00:44:35.986182Z",
     "shell.execute_reply": "2022-03-31T00:44:35.985581Z",
     "shell.execute_reply.started": "2022-03-31T00:17:20.942312Z"
    },
    "papermill": {
     "duration": 9.0885,
     "end_time": "2022-03-31T00:44:35.986331",
     "exception": false,
     "start_time": "2022-03-31T00:44:26.897831",
     "status": "completed"
    },
    "tags": []
   },
   "outputs": [
    {
     "name": "stdout",
     "output_type": "stream",
     "text": [
      "Collecting torch_mtcnn\r\n",
      "  Downloading torch_mtcnn-0.0.7-py3-none-any.whl (9.6 kB)\r\n",
      "Requirement already satisfied: torchvision in /opt/conda/lib/python3.7/site-packages (from torch_mtcnn) (0.10.1+cpu)\r\n",
      "Requirement already satisfied: numpy in /opt/conda/lib/python3.7/site-packages (from torch_mtcnn) (1.20.3)\r\n",
      "Requirement already satisfied: torch in /opt/conda/lib/python3.7/site-packages (from torch_mtcnn) (1.9.1+cpu)\r\n",
      "Requirement already satisfied: typing-extensions in /opt/conda/lib/python3.7/site-packages (from torch->torch_mtcnn) (4.1.1)\r\n",
      "Requirement already satisfied: pillow>=5.3.0 in /opt/conda/lib/python3.7/site-packages (from torchvision->torch_mtcnn) (8.2.0)\r\n",
      "Installing collected packages: torch-mtcnn\r\n",
      "Successfully installed torch-mtcnn-0.0.7\r\n",
      "\u001b[33mWARNING: Running pip as the 'root' user can result in broken permissions and conflicting behaviour with the system package manager. It is recommended to use a virtual environment instead: https://pip.pypa.io/warnings/venv\u001b[0m\r\n"
     ]
    }
   ],
   "source": [
    "!pip install torch_mtcnn"
   ]
  },
  {
   "cell_type": "code",
   "execution_count": 13,
   "id": "b8b38964",
   "metadata": {
    "execution": {
     "iopub.execute_input": "2022-03-31T00:44:36.049638Z",
     "iopub.status.busy": "2022-03-31T00:44:36.048963Z",
     "iopub.status.idle": "2022-03-31T00:44:37.374082Z",
     "shell.execute_reply": "2022-03-31T00:44:37.374839Z",
     "shell.execute_reply.started": "2022-03-31T00:33:47.171184Z"
    },
    "papermill": {
     "duration": 1.359406,
     "end_time": "2022-03-31T00:44:37.375016",
     "exception": false,
     "start_time": "2022-03-31T00:44:36.015610",
     "status": "completed"
    },
    "tags": []
   },
   "outputs": [
    {
     "name": "stderr",
     "output_type": "stream",
     "text": [
      "Downloading: \"https://github.com/khrlimam/mtcnn-pytorch/releases/download/0.0.1/pnet-6b6ef92b.pth\" to /root/.cache/torch/hub/checkpoints/pnet-6b6ef92b.pth\n"
     ]
    },
    {
     "data": {
      "application/vnd.jupyter.widget-view+json": {
       "model_id": "349eba33adf24682bb46f98d44bc4d41",
       "version_major": 2,
       "version_minor": 0
      },
      "text/plain": [
       "  0%|          | 0.00/28.1k [00:00<?, ?B/s]"
      ]
     },
     "metadata": {},
     "output_type": "display_data"
    },
    {
     "name": "stderr",
     "output_type": "stream",
     "text": [
      "Downloading: \"https://github.com/khrlimam/mtcnn-pytorch/releases/download/0.0.1/rnet-b13c48bc.pth\" to /root/.cache/torch/hub/checkpoints/rnet-b13c48bc.pth\n"
     ]
    },
    {
     "data": {
      "application/vnd.jupyter.widget-view+json": {
       "model_id": "b3191f9ab41243559f7b750d3d7c5f39",
       "version_major": 2,
       "version_minor": 0
      },
      "text/plain": [
       "  0%|          | 0.00/394k [00:00<?, ?B/s]"
      ]
     },
     "metadata": {},
     "output_type": "display_data"
    },
    {
     "name": "stderr",
     "output_type": "stream",
     "text": [
      "Downloading: \"https://github.com/khrlimam/mtcnn-pytorch/releases/download/0.0.1/onet-60cc8dd5.pth\" to /root/.cache/torch/hub/checkpoints/onet-60cc8dd5.pth\n"
     ]
    },
    {
     "data": {
      "application/vnd.jupyter.widget-view+json": {
       "model_id": "43866bb0a0f8408a9931475dc41ff3e4",
       "version_major": 2,
       "version_minor": 0
      },
      "text/plain": [
       "  0%|          | 0.00/1.49M [00:00<?, ?B/s]"
      ]
     },
     "metadata": {},
     "output_type": "display_data"
    }
   ],
   "source": [
    "#from mtcnn.mtcnn import MTCNN\n",
    "from PIL import Image\n",
    "from torch_mtcnn import detect_faces\n",
    "\n",
    "img = cv2.imread('../input/face-mask-detection/images/maksssksksss1.png')\n",
    "img = cv2.cvtColor(img, cv2.COLOR_BGR2RGB)\n",
    "img_ptl = Image.fromarray(img)\n",
    "bboxes, results = detect_faces(img_ptl)"
   ]
  },
  {
   "cell_type": "code",
   "execution_count": 14,
   "id": "8a0d22ec",
   "metadata": {
    "execution": {
     "iopub.execute_input": "2022-03-31T00:44:37.437666Z",
     "iopub.status.busy": "2022-03-31T00:44:37.437016Z",
     "iopub.status.idle": "2022-03-31T00:44:37.722533Z",
     "shell.execute_reply": "2022-03-31T00:44:37.723003Z",
     "shell.execute_reply.started": "2022-03-31T00:33:49.009813Z"
    },
    "papermill": {
     "duration": 0.31822,
     "end_time": "2022-03-31T00:44:37.723174",
     "exception": false,
     "start_time": "2022-03-31T00:44:37.404954",
     "status": "completed"
    },
    "tags": []
   },
   "outputs": [
    {
     "data": {
      "text/plain": [
       "-1"
      ]
     },
     "execution_count": 14,
     "metadata": {},
     "output_type": "execute_result"
    },
    {
     "data": {
      "image/png": "[encoded data removed]",
      "text/plain": [
       "<Figure size 432x288 with 1 Axes>"
      ]
     },
     "metadata": {
      "needs_background": "light"
     },
     "output_type": "display_data"
    }
   ],
   "source": [
    "for result in bboxes:\n",
    "    x,y,w,h,confidence = int(result[0]),int(result[1]),int(result[2]),int(result[3]),result[4]\n",
    "    cv2.rectangle(img, (x, y), (w, h), (0, 0, 255), 2)\n",
    "    faces = img[y:y + h, x:x + w]\n",
    "    plt.imshow(cv2.cvtColor(faces, cv2.COLOR_BGR2RGB))\n",
    "    cv2.imwrite('face.jpg', faces)\n",
    "# Display the output\n",
    "cv2.imwrite('detcted.jpg', img)\n",
    "img = cv2.cvtColor(img, cv2.COLOR_BGR2RGB)\n",
    "plt.imshow(cv2.cvtColor(img, cv2.COLOR_BGR2RGB))\n",
    "cv2.waitKey()"
   ]
  }
 ],
 "metadata": {
  "kernelspec": {
   "display_name": "Python 3",
   "language": "python",
   "name": "python3"
  },
  "language_info": {
   "codemirror_mode": {
    "name": "ipython",
    "version": 3
   },
   "file_extension": ".py",
   "mimetype": "text/x-python",
   "name": "python",
   "nbconvert_exporter": "python",
   "pygments_lexer": "ipython3",
   "version": "3.7.12"
  },
  "papermill": {
   "default_parameters": {},
   "duration": 139.6844,
   "end_time": "2022-03-31T00:44:41.307894",
   "environment_variables": {},
   "exception": null,
   "input_path": "__notebook__.ipynb",
   "output_path": "__notebook__.ipynb",
   "parameters": {},
   "start_time": "2022-03-31T00:42:21.623494",
   "version": "2.3.3"
  },
  "widgets": {
   "application/vnd.jupyter.widget-state+json": {
    "state": {
     "00282d14c74a475584c6aee71125683a": {
      "model_module": "@jupyter-widgets/controls",
      "model_module_version": "1.5.0",
      "model_name": "FloatProgressModel",
      "state": {
       "_dom_classes": [],
       "_model_module": "@jupyter-widgets/controls",
       "_model_module_version": "1.5.0",
       "_model_name": "FloatProgressModel",
       "_view_count": null,
       "_view_module": "@jupyter-widgets/controls",
       "_view_module_version": "1.5.0",
       "_view_name": "ProgressView",
       "bar_style": "success",
       "description": "",
       "description_tooltip": null,
       "layout": "IPY_MODEL_5f986db0179b4dd49eb0cb6bba94c16d",
       "max": 1559608,
       "min": 0,
       "orientation": "horizontal",
       "style": "IPY_MODEL_8d16536705d046ac8fea5b7796995738",
       "value": 1559608
      }
     },
     "0d7d2b5bc16d48d3b483dc8c94769d09": {
      "model_module": "@jupyter-widgets/base",
      "model_module_version": "1.2.0",
      "model_name": "LayoutModel",
      "state": {
       "_model_module": "@jupyter-widgets/base",
       "_model_module_version": "1.2.0",
       "_model_name": "LayoutModel",
       "_view_count": null,
       "_view_module": "@jupyter-widgets/base",
       "_view_module_version": "1.2.0",
       "_view_name": "LayoutView",
       "align_content": null,
       "align_items": null,
       "align_self": null,
       "border": null,
       "bottom": null,
       "display": null,
       "flex": null,
       "flex_flow": null,
       "grid_area": null,
       "grid_auto_columns": null,
       "grid_auto_flow": null,
       "grid_auto_rows": null,
       "grid_column": null,
       "grid_gap": null,
       "grid_row": null,
       "grid_template_areas": null,
       "grid_template_columns": null,
       "grid_template_rows": null,
       "height": null,
       "justify_content": null,
       "justify_items": null,
       "left": null,
       "margin": null,
       "max_height": null,
       "max_width": null,
       "min_height": null,
       "min_width": null,
       "object_fit": null,
       "object_position": null,
       "order": null,
       "overflow": null,
       "overflow_x": null,
       "overflow_y": null,
       "padding": null,
       "right": null,
       "top": null,
       "visibility": null,
       "width": null
      }
     },
     "167ab2f01453462c8974b60d15716726": {
      "model_module": "@jupyter-widgets/controls",
      "model_module_version": "1.5.0",
      "model_name": "HTMLModel",
      "state": {
       "_dom_classes": [],
       "_model_module": "@jupyter-widgets/controls",
       "_model_module_version": "1.5.0",
       "_model_name": "HTMLModel",
       "_view_count": null,
       "_view_module": "@jupyter-widgets/controls",
       "_view_module_version": "1.5.0",
       "_view_name": "HTMLView",
       "description": "",
       "description_tooltip": null,
       "layout": "IPY_MODEL_ff5f1729acf942f38b3e23ca9cc6eb74",
       "placeholder": "​",
       "style": "IPY_MODEL_c33ebdf9acd84f68bb307c662485f926",
       "value": "100%"
      }
     },
     "1a1b779c255b401396e06473a6df243a": {
      "model_module": "@jupyter-widgets/controls",
      "model_module_version": "1.5.0",
      "model_name": "DescriptionStyleModel",
      "state": {
       "_model_module": "@jupyter-widgets/controls",
       "_model_module_version": "1.5.0",
       "_model_name": "DescriptionStyleModel",
       "_view_count": null,
       "_view_module": "@jupyter-widgets/base",
       "_view_module_version": "1.2.0",
       "_view_name": "StyleView",
       "description_width": ""
      }
     },
     "1adc39ae6a1947ccb5a5791dc164b3d4": {
      "model_module": "@jupyter-widgets/base",
      "model_module_version": "1.2.0",
      "model_name": "LayoutModel",
      "state": {
       "_model_module": "@jupyter-widgets/base",
       "_model_module_version": "1.2.0",
       "_model_name": "LayoutModel",
       "_view_count": null,
       "_view_module": "@jupyter-widgets/base",
       "_view_module_version": "1.2.0",
       "_view_name": "LayoutView",
       "align_content": null,
       "align_items": null,
       "align_self": null,
       "border": null,
       "bottom": null,
       "display": null,
       "flex": null,
       "flex_flow": null,
       "grid_area": null,
       "grid_auto_columns": null,
       "grid_auto_flow": null,
       "grid_auto_rows": null,
       "grid_column": null,
       "grid_gap": null,
       "grid_row": null,
       "grid_template_areas": null,
       "grid_template_columns": null,
       "grid_template_rows": null,
       "height": null,
       "justify_content": null,
       "justify_items": null,
       "left": null,
       "margin": null,
       "max_height": null,
       "max_width": null,
       "min_height": null,
       "min_width": null,
       "object_fit": null,
       "object_position": null,
       "order": null,
       "overflow": null,
       "overflow_x": null,
       "overflow_y": null,
       "padding": null,
       "right": null,
       "top": null,
       "visibility": null,
       "width": null
      }
     },
     "2402b84e639c423fa8e3cd6f957721c2": {
      "model_module": "@jupyter-widgets/base",
      "model_module_version": "1.2.0",
      "model_name": "LayoutModel",
      "state": {
       "_model_module": "@jupyter-widgets/base",
       "_model_module_version": "1.2.0",
       "_model_name": "LayoutModel",
       "_view_count": null,
       "_view_module": "@jupyter-widgets/base",
       "_view_module_version": "1.2.0",
       "_view_name": "LayoutView",
       "align_content": null,
       "align_items": null,
       "align_self": null,
       "border": null,
       "bottom": null,
       "display": null,
       "flex": null,
       "flex_flow": null,
       "grid_area": null,
       "grid_auto_columns": null,
       "grid_auto_flow": null,
       "grid_auto_rows": null,
       "grid_column": null,
       "grid_gap": null,
       "grid_row": null,
       "grid_template_areas": null,
       "grid_template_columns": null,
       "grid_template_rows": null,
       "height": null,
       "justify_content": null,
       "justify_items": null,
       "left": null,
       "margin": null,
       "max_height": null,
       "max_width": null,
       "min_height": null,
       "min_width": null,
       "object_fit": null,
       "object_position": null,
       "order": null,
       "overflow": null,
       "overflow_x": null,
       "overflow_y": null,
       "padding": null,
       "right": null,
       "top": null,
       "visibility": null,
       "width": null
      }
     },
     "2dd5a473ceff4fa6ada16562089dd1ec": {
      "model_module": "@jupyter-widgets/controls",
      "model_module_version": "1.5.0",
      "model_name": "HTMLModel",
      "state": {
       "_dom_classes": [],
       "_model_module": "@jupyter-widgets/controls",
       "_model_module_version": "1.5.0",
       "_model_name": "HTMLModel",
       "_view_count": null,
       "_view_module": "@jupyter-widgets/controls",
       "_view_module_version": "1.5.0",
       "_view_name": "HTMLView",
       "description": "",
       "description_tooltip": null,
       "layout": "IPY_MODEL_49de70cd9cad45efa8aca5ec7d0b25e2",
       "placeholder": "​",
       "style": "IPY_MODEL_9e94544f16904adeb3a70ad12e982f4d",
       "value": "100%"
      }
     },
     "349eba33adf24682bb46f98d44bc4d41": {
      "model_module": "@jupyter-widgets/controls",
      "model_module_version": "1.5.0",
      "model_name": "HBoxModel",
      "state": {
       "_dom_classes": [],
       "_model_module": "@jupyter-widgets/controls",
       "_model_module_version": "1.5.0",
       "_model_name": "HBoxModel",
       "_view_count": null,
       "_view_module": "@jupyter-widgets/controls",
       "_view_module_version": "1.5.0",
       "_view_name": "HBoxView",
       "box_style": "",
       "children": [
        "IPY_MODEL_451fe6c0f46943f5a8797fc674e5de2f",
        "IPY_MODEL_4fd8960bec9c462a8e25cba8b52cffd5",
        "IPY_MODEL_b527494e680541b3bc7f69ca670a8880"
       ],
       "layout": "IPY_MODEL_0d7d2b5bc16d48d3b483dc8c94769d09"
      }
     },
     "3b8be51d80a5493ca20df497d015ddc0": {
      "model_module": "@jupyter-widgets/controls",
      "model_module_version": "1.5.0",
      "model_name": "DescriptionStyleModel",
      "state": {
       "_model_module": "@jupyter-widgets/controls",
       "_model_module_version": "1.5.0",
       "_model_name": "DescriptionStyleModel",
       "_view_count": null,
       "_view_module": "@jupyter-widgets/base",
       "_view_module_version": "1.2.0",
       "_view_name": "StyleView",
       "description_width": ""
      }
     },
     "43866bb0a0f8408a9931475dc41ff3e4": {
      "model_module": "@jupyter-widgets/controls",
      "model_module_version": "1.5.0",
      "model_name": "HBoxModel",
      "state": {
       "_dom_classes": [],
       "_model_module": "@jupyter-widgets/controls",
       "_model_module_version": "1.5.0",
       "_model_name": "HBoxModel",
       "_view_count": null,
       "_view_module": "@jupyter-widgets/controls",
       "_view_module_version": "1.5.0",
       "_view_name": "HBoxView",
       "box_style": "",
       "children": [
        "IPY_MODEL_167ab2f01453462c8974b60d15716726",
        "IPY_MODEL_00282d14c74a475584c6aee71125683a",
        "IPY_MODEL_5a2dec8a8e2f4752bacf2c215e1860f5"
       ],
       "layout": "IPY_MODEL_86417a09e97c48d7b84f909608dfdaa9"
      }
     },
     "451fe6c0f46943f5a8797fc674e5de2f": {
      "model_module": "@jupyter-widgets/controls",
      "model_module_version": "1.5.0",
      "model_name": "HTMLModel",
      "state": {
       "_dom_classes": [],
       "_model_module": "@jupyter-widgets/controls",
       "_model_module_version": "1.5.0",
       "_model_name": "HTMLModel",
       "_view_count": null,
       "_view_module": "@jupyter-widgets/controls",
       "_view_module_version": "1.5.0",
       "_view_name": "HTMLView",
       "description": "",
       "description_tooltip": null,
       "layout": "IPY_MODEL_a6279ff4e6cc46ff942c83901d3f9dac",
       "placeholder": "​",
       "style": "IPY_MODEL_7305416685614366a5ec5d9128128909",
       "value": "100%"
      }
     },
     "48051ffbe20a402bb2c0ef4eda6ba936": {
      "model_module": "@jupyter-widgets/base",
      "model_module_version": "1.2.0",
      "model_name": "LayoutModel",
      "state": {
       "_model_module": "@jupyter-widgets/base",
       "_model_module_version": "1.2.0",
       "_model_name": "LayoutModel",
       "_view_count": null,
       "_view_module": "@jupyter-widgets/base",
       "_view_module_version": "1.2.0",
       "_view_name": "LayoutView",
       "align_content": null,
       "align_items": null,
       "align_self": null,
       "border": null,
       "bottom": null,
       "display": null,
       "flex": null,
       "flex_flow": null,
       "grid_area": null,
       "grid_auto_columns": null,
       "grid_auto_flow": null,
       "grid_auto_rows": null,
       "grid_column": null,
       "grid_gap": null,
       "grid_row": null,
       "grid_template_areas": null,
       "grid_template_columns": null,
       "grid_template_rows": null,
       "height": null,
       "justify_content": null,
       "justify_items": null,
       "left": null,
       "margin": null,
       "max_height": null,
       "max_width": null,
       "min_height": null,
       "min_width": null,
       "object_fit": null,
       "object_position": null,
       "order": null,
       "overflow": null,
       "overflow_x": null,
       "overflow_y": null,
       "padding": null,
       "right": null,
       "top": null,
       "visibility": null,
       "width": null
      }
     },
     "49de70cd9cad45efa8aca5ec7d0b25e2": {
      "model_module": "@jupyter-widgets/base",
      "model_module_version": "1.2.0",
      "model_name": "LayoutModel",
      "state": {
       "_model_module": "@jupyter-widgets/base",
       "_model_module_version": "1.2.0",
       "_model_name": "LayoutModel",
       "_view_count": null,
       "_view_module": "@jupyter-widgets/base",
       "_view_module_version": "1.2.0",
       "_view_name": "LayoutView",
       "align_content": null,
       "align_items": null,
       "align_self": null,
       "border": null,
       "bottom": null,
       "display": null,
       "flex": null,
       "flex_flow": null,
       "grid_area": null,
       "grid_auto_columns": null,
       "grid_auto_flow": null,
       "grid_auto_rows": null,
       "grid_column": null,
       "grid_gap": null,
       "grid_row": null,
       "grid_template_areas": null,
       "grid_template_columns": null,
       "grid_template_rows": null,
       "height": null,
       "justify_content": null,
       "justify_items": null,
       "left": null,
       "margin": null,
       "max_height": null,
       "max_width": null,
       "min_height": null,
       "min_width": null,
       "object_fit": null,
       "object_position": null,
       "order": null,
       "overflow": null,
       "overflow_x": null,
       "overflow_y": null,
       "padding": null,
       "right": null,
       "top": null,
       "visibility": null,
       "width": null
      }
     },
     "4d1b32796ce0459495f9ad7bc358bf0a": {
      "model_module": "@jupyter-widgets/controls",
      "model_module_version": "1.5.0",
      "model_name": "FloatProgressModel",
      "state": {
       "_dom_classes": [],
       "_model_module": "@jupyter-widgets/controls",
       "_model_module_version": "1.5.0",
       "_model_name": "FloatProgressModel",
       "_view_count": null,
       "_view_module": "@jupyter-widgets/controls",
       "_view_module_version": "1.5.0",
       "_view_name": "ProgressView",
       "bar_style": "success",
       "description": "",
       "description_tooltip": null,
       "layout": "IPY_MODEL_2402b84e639c423fa8e3cd6f957721c2",
       "max": 403394,
       "min": 0,
       "orientation": "horizontal",
       "style": "IPY_MODEL_6564e760172e42f4b4871291cfbc1ad7",
       "value": 403394
      }
     },
     "4fd8960bec9c462a8e25cba8b52cffd5": {
      "model_module": "@jupyter-widgets/controls",
      "model_module_version": "1.5.0",
      "model_name": "FloatProgressModel",
      "state": {
       "_dom_classes": [],
       "_model_module": "@jupyter-widgets/controls",
       "_model_module_version": "1.5.0",
       "_model_name": "FloatProgressModel",
       "_view_count": null,
       "_view_module": "@jupyter-widgets/controls",
       "_view_module_version": "1.5.0",
       "_view_name": "ProgressView",
       "bar_style": "success",
       "description": "",
       "description_tooltip": null,
       "layout": "IPY_MODEL_cff316e5a78a4611b81324ebe038c441",
       "max": 28735,
       "min": 0,
       "orientation": "horizontal",
       "style": "IPY_MODEL_748336d48b8b40a894ea6a76a63bacb2",
       "value": 28735
      }
     },
     "5a2dec8a8e2f4752bacf2c215e1860f5": {
      "model_module": "@jupyter-widgets/controls",
      "model_module_version": "1.5.0",
      "model_name": "HTMLModel",
      "state": {
       "_dom_classes": [],
       "_model_module": "@jupyter-widgets/controls",
       "_model_module_version": "1.5.0",
       "_model_name": "HTMLModel",
       "_view_count": null,
       "_view_module": "@jupyter-widgets/controls",
       "_view_module_version": "1.5.0",
       "_view_name": "HTMLView",
       "description": "",
       "description_tooltip": null,
       "layout": "IPY_MODEL_890218e59dc84e09808e76e1f8cc32d3",
       "placeholder": "​",
       "style": "IPY_MODEL_3b8be51d80a5493ca20df497d015ddc0",
       "value": " 1.49M/1.49M [00:00&lt;00:00, 18.0MB/s]"
      }
     },
     "5f986db0179b4dd49eb0cb6bba94c16d": {
      "model_module": "@jupyter-widgets/base",
      "model_module_version": "1.2.0",
      "model_name": "LayoutModel",
      "state": {
       "_model_module": "@jupyter-widgets/base",
       "_model_module_version": "1.2.0",
       "_model_name": "LayoutModel",
       "_view_count": null,
       "_view_module": "@jupyter-widgets/base",
       "_view_module_version": "1.2.0",
       "_view_name": "LayoutView",
       "align_content": null,
       "align_items": null,
       "align_self": null,
       "border": null,
       "bottom": null,
       "display": null,
       "flex": null,
       "flex_flow": null,
       "grid_area": null,
       "grid_auto_columns": null,
       "grid_auto_flow": null,
       "grid_auto_rows": null,
       "grid_column": null,
       "grid_gap": null,
       "grid_row": null,
       "grid_template_areas": null,
       "grid_template_columns": null,
       "grid_template_rows": null,
       "height": null,
       "justify_content": null,
       "justify_items": null,
       "left": null,
       "margin": null,
       "max_height": null,
       "max_width": null,
       "min_height": null,
       "min_width": null,
       "object_fit": null,
       "object_position": null,
       "order": null,
       "overflow": null,
       "overflow_x": null,
       "overflow_y": null,
       "padding": null,
       "right": null,
       "top": null,
       "visibility": null,
       "width": null
      }
     },
     "64b9100e0931420fa5d2bec1a3501e74": {
      "model_module": "@jupyter-widgets/controls",
      "model_module_version": "1.5.0",
      "model_name": "DescriptionStyleModel",
      "state": {
       "_model_module": "@jupyter-widgets/controls",
       "_model_module_version": "1.5.0",
       "_model_name": "DescriptionStyleModel",
       "_view_count": null,
       "_view_module": "@jupyter-widgets/base",
       "_view_module_version": "1.2.0",
       "_view_name": "StyleView",
       "description_width": ""
      }
     },
     "6564e760172e42f4b4871291cfbc1ad7": {
      "model_module": "@jupyter-widgets/controls",
      "model_module_version": "1.5.0",
      "model_name": "ProgressStyleModel",
      "state": {
       "_model_module": "@jupyter-widgets/controls",
       "_model_module_version": "1.5.0",
       "_model_name": "ProgressStyleModel",
       "_view_count": null,
       "_view_module": "@jupyter-widgets/base",
       "_view_module_version": "1.2.0",
       "_view_name": "StyleView",
       "bar_color": null,
       "description_width": ""
      }
     },
     "7305416685614366a5ec5d9128128909": {
      "model_module": "@jupyter-widgets/controls",
      "model_module_version": "1.5.0",
      "model_name": "DescriptionStyleModel",
      "state": {
       "_model_module": "@jupyter-widgets/controls",
       "_model_module_version": "1.5.0",
       "_model_name": "DescriptionStyleModel",
       "_view_count": null,
       "_view_module": "@jupyter-widgets/base",
       "_view_module_version": "1.2.0",
       "_view_name": "StyleView",
       "description_width": ""
      }
     },
     "748336d48b8b40a894ea6a76a63bacb2": {
      "model_module": "@jupyter-widgets/controls",
      "model_module_version": "1.5.0",
      "model_name": "ProgressStyleModel",
      "state": {
       "_model_module": "@jupyter-widgets/controls",
       "_model_module_version": "1.5.0",
       "_model_name": "ProgressStyleModel",
       "_view_count": null,
       "_view_module": "@jupyter-widgets/base",
       "_view_module_version": "1.2.0",
       "_view_name": "StyleView",
       "bar_color": null,
       "description_width": ""
      }
     },
     "86417a09e97c48d7b84f909608dfdaa9": {
      "model_module": "@jupyter-widgets/base",
      "model_module_version": "1.2.0",
      "model_name": "LayoutModel",
      "state": {
       "_model_module": "@jupyter-widgets/base",
       "_model_module_version": "1.2.0",
       "_model_name": "LayoutModel",
       "_view_count": null,
       "_view_module": "@jupyter-widgets/base",
       "_view_module_version": "1.2.0",
       "_view_name": "LayoutView",
       "align_content": null,
       "align_items": null,
       "align_self": null,
       "border": null,
       "bottom": null,
       "display": null,
       "flex": null,
       "flex_flow": null,
       "grid_area": null,
       "grid_auto_columns": null,
       "grid_auto_flow": null,
       "grid_auto_rows": null,
       "grid_column": null,
       "grid_gap": null,
       "grid_row": null,
       "grid_template_areas": null,
       "grid_template_columns": null,
       "grid_template_rows": null,
       "height": null,
       "justify_content": null,
       "justify_items": null,
       "left": null,
       "margin": null,
       "max_height": null,
       "max_width": null,
       "min_height": null,
       "min_width": null,
       "object_fit": null,
       "object_position": null,
       "order": null,
       "overflow": null,
       "overflow_x": null,
       "overflow_y": null,
       "padding": null,
       "right": null,
       "top": null,
       "visibility": null,
       "width": null
      }
     },
     "890218e59dc84e09808e76e1f8cc32d3": {
      "model_module": "@jupyter-widgets/base",
      "model_module_version": "1.2.0",
      "model_name": "LayoutModel",
      "state": {
       "_model_module": "@jupyter-widgets/base",
       "_model_module_version": "1.2.0",
       "_model_name": "LayoutModel",
       "_view_count": null,
       "_view_module": "@jupyter-widgets/base",
       "_view_module_version": "1.2.0",
       "_view_name": "LayoutView",
       "align_content": null,
       "align_items": null,
       "align_self": null,
       "border": null,
       "bottom": null,
       "display": null,
       "flex": null,
       "flex_flow": null,
       "grid_area": null,
       "grid_auto_columns": null,
       "grid_auto_flow": null,
       "grid_auto_rows": null,
       "grid_column": null,
       "grid_gap": null,
       "grid_row": null,
       "grid_template_areas": null,
       "grid_template_columns": null,
       "grid_template_rows": null,
       "height": null,
       "justify_content": null,
       "justify_items": null,
       "left": null,
       "margin": null,
       "max_height": null,
       "max_width": null,
       "min_height": null,
       "min_width": null,
       "object_fit": null,
       "object_position": null,
       "order": null,
       "overflow": null,
       "overflow_x": null,
       "overflow_y": null,
       "padding": null,
       "right": null,
       "top": null,
       "visibility": null,
       "width": null
      }
     },
     "8d16536705d046ac8fea5b7796995738": {
      "model_module": "@jupyter-widgets/controls",
      "model_module_version": "1.5.0",
      "model_name": "ProgressStyleModel",
      "state": {
       "_model_module": "@jupyter-widgets/controls",
       "_model_module_version": "1.5.0",
       "_model_name": "ProgressStyleModel",
       "_view_count": null,
       "_view_module": "@jupyter-widgets/base",
       "_view_module_version": "1.2.0",
       "_view_name": "StyleView",
       "bar_color": null,
       "description_width": ""
      }
     },
     "9e94544f16904adeb3a70ad12e982f4d": {
      "model_module": "@jupyter-widgets/controls",
      "model_module_version": "1.5.0",
      "model_name": "DescriptionStyleModel",
      "state": {
       "_model_module": "@jupyter-widgets/controls",
       "_model_module_version": "1.5.0",
       "_model_name": "DescriptionStyleModel",
       "_view_count": null,
       "_view_module": "@jupyter-widgets/base",
       "_view_module_version": "1.2.0",
       "_view_name": "StyleView",
       "description_width": ""
      }
     },
     "a6279ff4e6cc46ff942c83901d3f9dac": {
      "model_module": "@jupyter-widgets/base",
      "model_module_version": "1.2.0",
      "model_name": "LayoutModel",
      "state": {
       "_model_module": "@jupyter-widgets/base",
       "_model_module_version": "1.2.0",
       "_model_name": "LayoutModel",
       "_view_count": null,
       "_view_module": "@jupyter-widgets/base",
       "_view_module_version": "1.2.0",
       "_view_name": "LayoutView",
       "align_content": null,
       "align_items": null,
       "align_self": null,
       "border": null,
       "bottom": null,
       "display": null,
       "flex": null,
       "flex_flow": null,
       "grid_area": null,
       "grid_auto_columns": null,
       "grid_auto_flow": null,
       "grid_auto_rows": null,
       "grid_column": null,
       "grid_gap": null,
       "grid_row": null,
       "grid_template_areas": null,
       "grid_template_columns": null,
       "grid_template_rows": null,
       "height": null,
       "justify_content": null,
       "justify_items": null,
       "left": null,
       "margin": null,
       "max_height": null,
       "max_width": null,
       "min_height": null,
       "min_width": null,
       "object_fit": null,
       "object_position": null,
       "order": null,
       "overflow": null,
       "overflow_x": null,
       "overflow_y": null,
       "padding": null,
       "right": null,
       "top": null,
       "visibility": null,
       "width": null
      }
     },
     "b3191f9ab41243559f7b750d3d7c5f39": {
      "model_module": "@jupyter-widgets/controls",
      "model_module_version": "1.5.0",
      "model_name": "HBoxModel",
      "state": {
       "_dom_classes": [],
       "_model_module": "@jupyter-widgets/controls",
       "_model_module_version": "1.5.0",
       "_model_name": "HBoxModel",
       "_view_count": null,
       "_view_module": "@jupyter-widgets/controls",
       "_view_module_version": "1.5.0",
       "_view_name": "HBoxView",
       "box_style": "",
       "children": [
        "IPY_MODEL_2dd5a473ceff4fa6ada16562089dd1ec",
        "IPY_MODEL_4d1b32796ce0459495f9ad7bc358bf0a",
        "IPY_MODEL_f1128246e65b4b2b85a301ce95dccf6e"
       ],
       "layout": "IPY_MODEL_48051ffbe20a402bb2c0ef4eda6ba936"
      }
     },
     "b527494e680541b3bc7f69ca670a8880": {
      "model_module": "@jupyter-widgets/controls",
      "model_module_version": "1.5.0",
      "model_name": "HTMLModel",
      "state": {
       "_dom_classes": [],
       "_model_module": "@jupyter-widgets/controls",
       "_model_module_version": "1.5.0",
       "_model_name": "HTMLModel",
       "_view_count": null,
       "_view_module": "@jupyter-widgets/controls",
       "_view_module_version": "1.5.0",
       "_view_name": "HTMLView",
       "description": "",
       "description_tooltip": null,
       "layout": "IPY_MODEL_d1cfb38c84204597bcb64cd8d1e956a9",
       "placeholder": "​",
       "style": "IPY_MODEL_1a1b779c255b401396e06473a6df243a",
       "value": " 28.1k/28.1k [00:00&lt;00:00, 903kB/s]"
      }
     },
     "c33ebdf9acd84f68bb307c662485f926": {
      "model_module": "@jupyter-widgets/controls",
      "model_module_version": "1.5.0",
      "model_name": "DescriptionStyleModel",
      "state": {
       "_model_module": "@jupyter-widgets/controls",
       "_model_module_version": "1.5.0",
       "_model_name": "DescriptionStyleModel",
       "_view_count": null,
       "_view_module": "@jupyter-widgets/base",
       "_view_module_version": "1.2.0",
       "_view_name": "StyleView",
       "description_width": ""
      }
     },
     "cff316e5a78a4611b81324ebe038c441": {
      "model_module": "@jupyter-widgets/base",
      "model_module_version": "1.2.0",
      "model_name": "LayoutModel",
      "state": {
       "_model_module": "@jupyter-widgets/base",
       "_model_module_version": "1.2.0",
       "_model_name": "LayoutModel",
       "_view_count": null,
       "_view_module": "@jupyter-widgets/base",
       "_view_module_version": "1.2.0",
       "_view_name": "LayoutView",
       "align_content": null,
       "align_items": null,
       "align_self": null,
       "border": null,
       "bottom": null,
       "display": null,
       "flex": null,
       "flex_flow": null,
       "grid_area": null,
       "grid_auto_columns": null,
       "grid_auto_flow": null,
       "grid_auto_rows": null,
       "grid_column": null,
       "grid_gap": null,
       "grid_row": null,
       "grid_template_areas": null,
       "grid_template_columns": null,
       "grid_template_rows": null,
       "height": null,
       "justify_content": null,
       "justify_items": null,
       "left": null,
       "margin": null,
       "max_height": null,
       "max_width": null,
       "min_height": null,
       "min_width": null,
       "object_fit": null,
       "object_position": null,
       "order": null,
       "overflow": null,
       "overflow_x": null,
       "overflow_y": null,
       "padding": null,
       "right": null,
       "top": null,
       "visibility": null,
       "width": null
      }
     },
     "d1cfb38c84204597bcb64cd8d1e956a9": {
      "model_module": "@jupyter-widgets/base",
      "model_module_version": "1.2.0",
      "model_name": "LayoutModel",
      "state": {
       "_model_module": "@jupyter-widgets/base",
       "_model_module_version": "1.2.0",
       "_model_name": "LayoutModel",
       "_view_count": null,
       "_view_module": "@jupyter-widgets/base",
       "_view_module_version": "1.2.0",
       "_view_name": "LayoutView",
       "align_content": null,
       "align_items": null,
       "align_self": null,
       "border": null,
       "bottom": null,
       "display": null,
       "flex": null,
       "flex_flow": null,
       "grid_area": null,
       "grid_auto_columns": null,
       "grid_auto_flow": null,
       "grid_auto_rows": null,
       "grid_column": null,
       "grid_gap": null,
       "grid_row": null,
       "grid_template_areas": null,
       "grid_template_columns": null,
       "grid_template_rows": null,
       "height": null,
       "justify_content": null,
       "justify_items": null,
       "left": null,
       "margin": null,
       "max_height": null,
       "max_width": null,
       "min_height": null,
       "min_width": null,
       "object_fit": null,
       "object_position": null,
       "order": null,
       "overflow": null,
       "overflow_x": null,
       "overflow_y": null,
       "padding": null,
       "right": null,
       "top": null,
       "visibility": null,
       "width": null
      }
     },
     "f1128246e65b4b2b85a301ce95dccf6e": {
      "model_module": "@jupyter-widgets/controls",
      "model_module_version": "1.5.0",
      "model_name": "HTMLModel",
      "state": {
       "_dom_classes": [],
       "_model_module": "@jupyter-widgets/controls",
       "_model_module_version": "1.5.0",
       "_model_name": "HTMLModel",
       "_view_count": null,
       "_view_module": "@jupyter-widgets/controls",
       "_view_module_version": "1.5.0",
       "_view_name": "HTMLView",
       "description": "",
       "description_tooltip": null,
       "layout": "IPY_MODEL_1adc39ae6a1947ccb5a5791dc164b3d4",
       "placeholder": "​",
       "style": "IPY_MODEL_64b9100e0931420fa5d2bec1a3501e74",
       "value": " 394k/394k [00:00&lt;00:00, 6.56MB/s]"
      }
     },
     "ff5f1729acf942f38b3e23ca9cc6eb74": {
      "model_module": "@jupyter-widgets/base",
      "model_module_version": "1.2.0",
      "model_name": "LayoutModel",
      "state": {
       "_model_module": "@jupyter-widgets/base",
       "_model_module_version": "1.2.0",
       "_model_name": "LayoutModel",
       "_view_count": null,
       "_view_module": "@jupyter-widgets/base",
       "_view_module_version": "1.2.0",
       "_view_name": "LayoutView",
       "align_content": null,
       "align_items": null,
       "align_self": null,
       "border": null,
       "bottom": null,
       "display": null,
       "flex": null,
       "flex_flow": null,
       "grid_area": null,
       "grid_auto_columns": null,
       "grid_auto_flow": null,
       "grid_auto_rows": null,
       "grid_column": null,
       "grid_gap": null,
       "grid_row": null,
       "grid_template_areas": null,
       "grid_template_columns": null,
       "grid_template_rows": null,
       "height": null,
       "justify_content": null,
       "justify_items": null,
       "left": null,
       "margin": null,
       "max_height": null,
       "max_width": null,
       "min_height": null,
       "min_width": null,
       "object_fit": null,
       "object_position": null,
       "order": null,
       "overflow": null,
       "overflow_x": null,
       "overflow_y": null,
       "padding": null,
       "right": null,
       "top": null,
       "visibility": null,
       "width": null
      }
     }
    },
    "version_major": 2,
    "version_minor": 0
   }
  }
 },
 "nbformat": 4,
 "nbformat_minor": 5
}
