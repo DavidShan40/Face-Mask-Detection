{
 "cells": [
  {
   "cell_type": "code",
   "execution_count": 1,
   "metadata": {},
   "outputs": [],
   "source": [
    "import pandas as pd\n",
    "import numpy as np\n",
    "import S2_0_Loading_Data\n",
    "\n",
    "from keras.models import Sequential\n",
    "from keras.layers import Dense, Dropout, Activation, Flatten, BatchNormalization\n",
    "from keras.regularizers import L2\n",
    "from keras.callbacks import EarlyStopping\n",
    "from tensorflow.keras.applications.resnet50 import ResNet50\n",
    "import keras\n",
    "import tensorflow as tf\n",
    "import S4_0_Helper_Functions"
   ]
  },
  {
   "cell_type": "code",
   "execution_count": 2,
   "metadata": {},
   "outputs": [
    {
     "data": {
      "text/plain": [
       "(3257, 224, 224, 3)"
      ]
     },
     "execution_count": 2,
     "metadata": {},
     "output_type": "execute_result"
    }
   ],
   "source": [
    "train_x, test_x, train_y, test_y = S2_0_Loading_Data.load_data(image_size=(224, 224))\n",
    "train_x.shape"
   ]
  },
  {
   "cell_type": "code",
   "execution_count": 3,
   "metadata": {},
   "outputs": [],
   "source": [
    "pretrained_RN50 = ResNet50(weights='imagenet', include_top=False, input_shape=(224,224, 3))"
   ]
  },
  {
   "cell_type": "code",
   "execution_count": 4,
   "metadata": {},
   "outputs": [],
   "source": [
    "weight_decay = 0.0005\n",
    "for layer in pretrained_RN50.layers:\n",
    "    layer.trainable = False\n",
    "model = Sequential()\n",
    "model.add(pretrained_RN50)\n",
    "model.add(Flatten())\n",
    "model.add(Dense(512, kernel_regularizer=L2(weight_decay)))\n",
    "model.add(Activation('relu'))\n",
    "model.add(BatchNormalization())\n",
    "\n",
    "model.add(Dropout(0.1))\n",
    "model.add(Dense(3))\n",
    "model.add(Activation('softmax'))"
   ]
  },
  {
   "cell_type": "code",
   "execution_count": 5,
   "metadata": {},
   "outputs": [],
   "source": [
    "# compile model\n",
    "METRICS = [\n",
    "      keras.metrics.TruePositives(name='tp'),\n",
    "      keras.metrics.FalsePositives(name='fp'),\n",
    "      keras.metrics.TrueNegatives(name='tn'),\n",
    "      keras.metrics.FalseNegatives(name='fn'), \n",
    "      keras.metrics.CategoricalAccuracy(name='accuracy'),\n",
    "      keras.metrics.Precision(name='precision'),\n",
    "      keras.metrics.Recall(name='recall'),\n",
    "      keras.metrics.AUC(name='auc'),\n",
    "      keras.metrics.AUC(name='prc', curve='PR'), # precision-recall curve\n",
    "]\n",
    "\n",
    "model.compile(optimizer=tf.keras.optimizers.Adam(learning_rate=1e-3),\n",
    "              loss='CategoricalCrossentropy',\n",
    "              metrics=METRICS)"
   ]
  },
  {
   "cell_type": "code",
   "execution_count": 6,
   "metadata": {},
   "outputs": [
    {
     "name": "stdout",
     "output_type": "stream",
     "text": [
      "102/102 [==============================] - 179s 2s/step - loss: 1.2640 - tp: 2848.0000 - fp: 325.0000 - tn: 6189.0000 - fn: 409.0000 - accuracy: 0.8861 - precision: 0.8976 - recall: 0.8744 - auc: 0.9580 - prc: 0.9290 - val_loss: 0.8258 - val_tp: 775.0000 - val_fp: 34.0000 - val_tn: 1596.0000 - val_fn: 40.0000 - val_accuracy: 0.9546 - val_precision: 0.9580 - val_recall: 0.9509 - val_auc: 0.9919 - val_prc: 0.9849\n"
     ]
    }
   ],
   "source": [
    "callback = EarlyStopping(monitor='val_prc', mode='max',min_delta = 0.01, verbose=1, patience=10,restore_best_weights=True)\n",
    "\n",
    "model_hist = model.fit(\n",
    "    train_x,\n",
    "    train_y,\n",
    "    validation_data = (test_x, test_y),\n",
    "    epochs = 1, # change to 100 to get superior\n",
    "    verbose = 1,\n",
    "    callbacks = [callback]\n",
    ")"
   ]
  },
  {
   "cell_type": "code",
   "execution_count": 7,
   "metadata": {},
   "outputs": [
    {
     "name": "stdout",
     "output_type": "stream",
     "text": [
      "accuracy: 0.9546012269938651\n",
      "recall: 0.9546012269938651\n",
      "precision: 0.9546012269938651\n"
     ]
    }
   ],
   "source": [
    "preds = model.predict(\n",
    "    test_x\n",
    ")\n",
    "\n",
    "S4_0_Helper_Functions.getAccuracyMetrics(preds, test_y)"
   ]
  }
 ],
 "metadata": {
  "interpreter": {
   "hash": "8b97f87722be283d127c9677e5f24424f6cc3995624eb5ed09943429763561ca"
  },
  "kernelspec": {
   "display_name": "Python 3.10.2 64-bit",
   "language": "python",
   "name": "python3"
  },
  "language_info": {
   "codemirror_mode": {
    "name": "ipython",
    "version": 3
   },
   "file_extension": ".py",
   "mimetype": "text/x-python",
   "name": "python",
   "nbconvert_exporter": "python",
   "pygments_lexer": "ipython3",
   "version": "3.10.2"
  },
  "orig_nbformat": 4
 },
 "nbformat": 4,
 "nbformat_minor": 2
}
